{
 "cells": [
  {
   "cell_type": "code",
   "execution_count": 3,
   "metadata": {},
   "outputs": [],
   "source": [
    "def Check_board_filled(board):\n",
    "    #检查棋子是否满盘\n",
    "    for i in range(3):\n",
    "        if len([True for j in range(3) if board[i][j] == \"-\"]) == 3:\n",
    "            return False\n",
    "    return True"
   ]
  },
  {
   "cell_type": "code",
   "execution_count": 4,
   "metadata": {},
   "outputs": [
    {
     "data": {
      "text/plain": [
       "True"
      ]
     },
     "execution_count": 4,
     "metadata": {},
     "output_type": "execute_result"
    }
   ],
   "source": [
    "board = [[\"-\",\"-\",\"-\"],\n",
    "         [\"-\",\"-\",\"-\"],\n",
    "         [\"-\",\"-\",\"-\"]]\n",
    "Check_board_filled(board)"
   ]
  },
  {
   "cell_type": "code",
   "execution_count": null,
   "metadata": {},
   "outputs": [],
   "source": []
  }
 ],
 "metadata": {
  "language_info": {
   "name": "python"
  },
  "orig_nbformat": 4
 },
 "nbformat": 4,
 "nbformat_minor": 2
}
